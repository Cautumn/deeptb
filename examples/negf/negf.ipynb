{
 "cells": [
  {
   "cell_type": "code",
   "execution_count": 1,
   "metadata": {},
   "outputs": [
    {
     "name": "stderr",
     "output_type": "stream",
     "text": [
      "/opt/miniconda/envs/deeptb/lib/python3.8/site-packages/tqdm/auto.py:22: TqdmWarning: IProgress not found. Please update jupyter and ipywidgets. See https://ipywidgets.readthedocs.io/en/stable/user_install.html\n",
      "  from .autonotebook import tqdm as notebook_tqdm\n"
     ]
    }
   ],
   "source": [
    "import torch\n",
    "import numpy as np\n",
    "from dptb.plugins.init_nnsk import InitSKModel\n",
    "from dptb.plugins.init_dptb import InitDPTBModel\n",
    "from dptb.nnops.NN2HRK import NN2HRK\n",
    "from dptb.nnops.apihost import NNSKHost, DPTBHost\n",
    "from ase.io import read,write\n",
    "from dptb.structure.structure import BaseStruct\n",
    "import matplotlib.pyplot as plt\n",
    "from dptb.postprocess.bandstructure.band import bandcalc\n",
    "from ase.io.trajectory import Trajectory\n",
    "import pickle as pickle\n",
    "#\"seed\": 3982377700,\n",
    "from dptb.postprocess.NEGF import NEGF\n"
   ]
  },
  {
   "cell_type": "code",
   "execution_count": 20,
   "metadata": {},
   "outputs": [],
   "source": []
  },
  {
   "attachments": {},
   "cell_type": "markdown",
   "metadata": {},
   "source": [
    "# Check Band Structure"
   ]
  },
  {
   "cell_type": "code",
   "execution_count": 21,
   "metadata": {},
   "outputs": [
    {
     "ename": "KeyError",
     "evalue": "'types_list'",
     "output_type": "error",
     "traceback": [
      "\u001b[0;31m---------------------------------------------------------------------------\u001b[0m",
      "\u001b[0;31mKeyError\u001b[0m                                  Traceback (most recent call last)",
      "\u001b[1;32m/root/deeptb/examples/negf/negf.ipynb Cell 4\u001b[0m in \u001b[0;36m6\n\u001b[1;32m      <a href='vscode-notebook-cell://ssh-remote%2Bdeeptb-dev2/root/deeptb/examples/negf/negf.ipynb#X33sdnNjb2RlLXJlbW90ZQ%3D%3D?line=3'>4</a>\u001b[0m nnskapi \u001b[39m=\u001b[39m NNSKHost(checkpoint\u001b[39m=\u001b[39mcheckfile)\n\u001b[1;32m      <a href='vscode-notebook-cell://ssh-remote%2Bdeeptb-dev2/root/deeptb/examples/negf/negf.ipynb#X33sdnNjb2RlLXJlbW90ZQ%3D%3D?line=4'>5</a>\u001b[0m nnskapi\u001b[39m.\u001b[39mregister_plugin(InitSKModel())\n\u001b[0;32m----> <a href='vscode-notebook-cell://ssh-remote%2Bdeeptb-dev2/root/deeptb/examples/negf/negf.ipynb#X33sdnNjb2RlLXJlbW90ZQ%3D%3D?line=5'>6</a>\u001b[0m nnskapi\u001b[39m.\u001b[39;49mbuild()\n\u001b[1;32m      <a href='vscode-notebook-cell://ssh-remote%2Bdeeptb-dev2/root/deeptb/examples/negf/negf.ipynb#X33sdnNjb2RlLXJlbW90ZQ%3D%3D?line=6'>7</a>\u001b[0m nnHrk \u001b[39m=\u001b[39m NN2HRK(apihost\u001b[39m=\u001b[39mnnskapi, mode\u001b[39m=\u001b[39m\u001b[39m'\u001b[39m\u001b[39mnnsk\u001b[39m\u001b[39m'\u001b[39m)\n\u001b[1;32m      <a href='vscode-notebook-cell://ssh-remote%2Bdeeptb-dev2/root/deeptb/examples/negf/negf.ipynb#X33sdnNjb2RlLXJlbW90ZQ%3D%3D?line=7'>8</a>\u001b[0m run_opt\u001b[39m=\u001b[39m{\u001b[39m\"\u001b[39m\u001b[39mstructure\u001b[39m\u001b[39m\"\u001b[39m:\u001b[39m\"\u001b[39m\u001b[39m/data/DFT/cubic/C/diamond.vasp\u001b[39m\u001b[39m\"\u001b[39m,\n\u001b[1;32m      <a href='vscode-notebook-cell://ssh-remote%2Bdeeptb-dev2/root/deeptb/examples/negf/negf.ipynb#X33sdnNjb2RlLXJlbW90ZQ%3D%3D?line=8'>9</a>\u001b[0m         \u001b[39m\"\u001b[39m\u001b[39mresults_path\u001b[39m\u001b[39m\"\u001b[39m:\u001b[39m\"\u001b[39m\u001b[39m./\u001b[39m\u001b[39m\"\u001b[39m}\n",
      "File \u001b[0;32m/opt/miniconda/envs/deeptb/lib/python3.8/site-packages/dptb/nnops/apihost.py:106\u001b[0m, in \u001b[0;36mNNSKHost.build\u001b[0;34m(self)\u001b[0m\n\u001b[1;32m    104\u001b[0m     \u001b[39mself\u001b[39m\u001b[39m.\u001b[39mmodel_config\u001b[39m.\u001b[39mupdate({\u001b[39m'\u001b[39m\u001b[39msoc\u001b[39m\u001b[39m'\u001b[39m:\u001b[39mFalse\u001b[39;00m})\n\u001b[1;32m    105\u001b[0m \u001b[39m# ---------------------------       init network model        -----------------------\u001b[39;00m\n\u001b[0;32m--> 106\u001b[0m \u001b[39mself\u001b[39;49m\u001b[39m.\u001b[39;49mcall_plugins(queue_name\u001b[39m=\u001b[39;49m\u001b[39m'\u001b[39;49m\u001b[39mdisposable\u001b[39;49m\u001b[39m'\u001b[39;49m, time\u001b[39m=\u001b[39;49m\u001b[39m0\u001b[39;49m, mode\u001b[39m=\u001b[39;49m\u001b[39m'\u001b[39;49m\u001b[39minit_model\u001b[39;49m\u001b[39m'\u001b[39;49m, \u001b[39m*\u001b[39;49m\u001b[39m*\u001b[39;49m\u001b[39mself\u001b[39;49m\u001b[39m.\u001b[39;49mmodel_config)\n",
      "File \u001b[0;32m/opt/miniconda/envs/deeptb/lib/python3.8/site-packages/dptb/plugins/base_plugin.py:58\u001b[0m, in \u001b[0;36mPluginUser.call_plugins\u001b[0;34m(self, queue_name, time, **kwargs)\u001b[0m\n\u001b[1;32m     56\u001b[0m plugin \u001b[39m=\u001b[39m queue[\u001b[39m0\u001b[39m][\u001b[39m2\u001b[39m]\n\u001b[1;32m     57\u001b[0m \u001b[39m# the plugin must have at-least one of the iteration、batch、epoch and update events.\u001b[39;00m\n\u001b[0;32m---> 58\u001b[0m \u001b[39mgetattr\u001b[39;49m(plugin, queue_name)(time\u001b[39m=\u001b[39;49mtime, \u001b[39m*\u001b[39;49m\u001b[39m*\u001b[39;49mkwargs)\n\u001b[1;32m     59\u001b[0m \u001b[39mfor\u001b[39;00m trigger \u001b[39min\u001b[39;00m plugin\u001b[39m.\u001b[39mtrigger_interval:\n\u001b[1;32m     60\u001b[0m     \u001b[39mif\u001b[39;00m trigger[\u001b[39m1\u001b[39m] \u001b[39m==\u001b[39m queue_name:\n",
      "File \u001b[0;32m/opt/miniconda/envs/deeptb/lib/python3.8/site-packages/dptb/plugins/init_nnsk.py:33\u001b[0m, in \u001b[0;36mInitSKModel.disposable\u001b[0;34m(self, mode, time, **common_and_model_options)\u001b[0m\n\u001b[1;32m     31\u001b[0m     \u001b[39mself\u001b[39m\u001b[39m.\u001b[39minit_from_scratch(\u001b[39m*\u001b[39m\u001b[39m*\u001b[39mcommon_and_model_options)\n\u001b[1;32m     32\u001b[0m \u001b[39melif\u001b[39;00m mode \u001b[39m==\u001b[39m \u001b[39m\"\u001b[39m\u001b[39minit_model\u001b[39m\u001b[39m\"\u001b[39m \u001b[39mor\u001b[39;00m mode \u001b[39m==\u001b[39m \u001b[39m\"\u001b[39m\u001b[39mrestart\u001b[39m\u001b[39m\"\u001b[39m:\n\u001b[0;32m---> 33\u001b[0m     \u001b[39mself\u001b[39;49m\u001b[39m.\u001b[39;49minit_from_model(\u001b[39m*\u001b[39;49m\u001b[39m*\u001b[39;49mcommon_and_model_options)\n\u001b[1;32m     34\u001b[0m \u001b[39melse\u001b[39;00m:\n\u001b[1;32m     35\u001b[0m     log\u001b[39m.\u001b[39minfo(msg\u001b[39m=\u001b[39m\u001b[39m\"\u001b[39m\u001b[39mHaven\u001b[39m\u001b[39m'\u001b[39m\u001b[39mt assign a initializing mode, training from scratch as default.\u001b[39m\u001b[39m\"\u001b[39m)\n",
      "File \u001b[0;32m/opt/miniconda/envs/deeptb/lib/python3.8/site-packages/dptb/plugins/init_nnsk.py:263\u001b[0m, in \u001b[0;36mInitSKModel.init_from_model\u001b[0;34m(self, **common_and_model_and_run_options)\u001b[0m\n\u001b[1;32m    248\u001b[0m model \u001b[39m=\u001b[39m SKNet(skint_types\u001b[39m=\u001b[39mreducted_skint_types,\n\u001b[1;32m    249\u001b[0m                            onsite_types\u001b[39m=\u001b[39monsite_types,\n\u001b[1;32m    250\u001b[0m                            soc_types\u001b[39m=\u001b[39mreduced_onsiteE_types,\n\u001b[0;32m   (...)\u001b[0m\n\u001b[1;32m    259\u001b[0m                            onsite_index_dict\u001b[39m=\u001b[39monsiteE_ind_dict\n\u001b[1;32m    260\u001b[0m                            )\n\u001b[1;32m    262\u001b[0m \u001b[39mif\u001b[39;00m modeltype \u001b[39m==\u001b[39m \u001b[39m'\u001b[39m\u001b[39mckpt\u001b[39m\u001b[39m'\u001b[39m:\n\u001b[0;32m--> 263\u001b[0m     \u001b[39mself\u001b[39m\u001b[39m.\u001b[39mhost\u001b[39m.\u001b[39mmodel \u001b[39m=\u001b[39m init_from_model_(SKNet\u001b[39m=\u001b[39;49mmodel, checkpoint_list\u001b[39m=\u001b[39;49mckpt_list, interpolate\u001b[39m=\u001b[39;49minterpolate)\n\u001b[1;32m    264\u001b[0m \u001b[39melif\u001b[39;00m modeltype \u001b[39m==\u001b[39m \u001b[39m'\u001b[39m\u001b[39mjson\u001b[39m\u001b[39m'\u001b[39m:\n\u001b[1;32m    265\u001b[0m     \u001b[39mself\u001b[39m\u001b[39m.\u001b[39mhost\u001b[39m.\u001b[39mmodel \u001b[39m=\u001b[39m init_from_json_(SKNet\u001b[39m=\u001b[39mmodel, json_model\u001b[39m=\u001b[39mjson_model_list)\n",
      "File \u001b[0;32m/opt/miniconda/envs/deeptb/lib/python3.8/site-packages/dptb/nnsktb/init_from_model.py:45\u001b[0m, in \u001b[0;36minit_from_model_\u001b[0;34m(SKNet, checkpoint_list, interpolate)\u001b[0m\n\u001b[1;32m     43\u001b[0m \u001b[39mfor\u001b[39;00m ckpt \u001b[39min\u001b[39;00m checkpoint_list:\n\u001b[1;32m     44\u001b[0m     ckpt_state_dict \u001b[39m=\u001b[39m ckpt[\u001b[39m\"\u001b[39m\u001b[39mmodel_state_dict\u001b[39m\u001b[39m\"\u001b[39m]\n\u001b[0;32m---> 45\u001b[0m     types_list_ckpt \u001b[39m=\u001b[39m ckpt[\u001b[39m\"\u001b[39;49m\u001b[39mmodel_config\u001b[39;49m\u001b[39m\"\u001b[39;49m][\u001b[39m\"\u001b[39;49m\u001b[39mtypes_list\u001b[39;49m\u001b[39m\"\u001b[39;49m]\n\u001b[1;32m     46\u001b[0m     \u001b[39mfor\u001b[39;00m i \u001b[39min\u001b[39;00m \u001b[39mrange\u001b[39m(\u001b[39mlen\u001b[39m(types_list)):\n\u001b[1;32m     47\u001b[0m         \u001b[39m# update only when SKNET has this net\u001b[39;00m\n\u001b[1;32m     48\u001b[0m         \u001b[39mif\u001b[39;00m \u001b[39misinstance\u001b[39m(model_state_dict\u001b[39m.\u001b[39mget(layers_list[i][\u001b[39m0\u001b[39m], \u001b[39mNone\u001b[39;00m), torch\u001b[39m.\u001b[39mTensor) \\\n\u001b[1;32m     49\u001b[0m             \u001b[39mand\u001b[39;00m \u001b[39misinstance\u001b[39m(ckpt_state_dict\u001b[39m.\u001b[39mget(layers_list[i][\u001b[39m0\u001b[39m], \u001b[39mNone\u001b[39;00m), torch\u001b[39m.\u001b[39mTensor):\n",
      "\u001b[0;31mKeyError\u001b[0m: 'types_list'"
     ]
    }
   ],
   "source": [
    "checkfile = './nnsk.pth'\n",
    "#checkfile = \"./inputSiGe.json\"\n",
    "f = torch.load(checkfile)\n",
    "nnskapi = NNSKHost(checkpoint=checkfile)\n",
    "nnskapi.register_plugin(InitSKModel())\n",
    "nnskapi.build()\n",
    "nnHrk = NN2HRK(apihost=nnskapi, mode='nnsk')\n",
    "run_opt={\"structure\":\"/data/DFT/cubic/C/diamond.vasp\",\n",
    "        \"results_path\":\"./\"}\n",
    "jdata={\n",
    "        \"kline_type\":\"abacus\",\n",
    "        \"kpath\":[[0.0000000000, 0.0000000000, 0.0000000000, 50],\n",
    "                 [0.0000000000, 0.0000000000, 0.5000000000, 1]\n",
    "                 ],\n",
    "        \"klabels\":['G','Z'],\n",
    "        \"emin\":-10,\n",
    "        \"emax\":10\n",
    "        }\n",
    "bcalc = bandcalc(apiHrk=nnHrk,run_opt=run_opt,jdata=jdata)\n",
    "eigenstatus = bcalc.get_bands()\n",
    "\n",
    "band = np.loadtxt('./BANDS_1.dat')\n",
    "\n",
    "plt.figure(figsize=(6,6),dpi=100)\n",
    "#plt.plot(eigenstatus['xlist'], eigenstatus['eigenvalues'] - eigenstatus['E_fermi'], 'r-',lw=1)\n",
    "plt.plot(eigenstatus['xlist'], eigenstatus['eigenvalues']- np.min(eigenstatus['eigenvalues']), 'r-',lw=1)\n",
    "#plt.plot(band['xcoords'],band['eigenvalues']-np.min(band['eigenvalues']),'k--',ms=2)\n",
    "plt.plot(eigenstatus['xlist'], band[:,2:] - np.min(band[:,2:]),'k--',lw=1)\n",
    "plt.ylim(-2,55)\n",
    "\n",
    "\n",
    "for ii in eigenstatus['high_sym_kpoints']:\n",
    "    plt.axvline(ii,color='gray',lw=1,ls='--')\n",
    "plt.tick_params(direction='in')\n",
    "#plt.ylim(emin,emax)\n",
    "\n",
    "plt.xlim(eigenstatus['xlist'].min(),eigenstatus['xlist'].max())\n",
    "\n",
    "plt.ylabel('E - EF (eV)',fontsize=12)\n",
    "plt.yticks(fontsize=12)\n",
    "#plt.xticks(eigenstatus['high_sym_kpoints'], eigenstatus['labels'], fontsize=12)\n",
    "#plt.savefig(f'{self.results_path}/band.png',dpi=300)\n",
    "# plt.axhline(40.0)\n",
    "plt.show()"
   ]
  },
  {
   "attachments": {},
   "cell_type": "markdown",
   "metadata": {},
   "source": [
    "# Compute Transmission"
   ]
  },
  {
   "cell_type": "code",
   "execution_count": 2,
   "metadata": {},
   "outputs": [],
   "source": [
    "jdata = {\n",
    "        \"task\": \"negf\",\n",
    "        \"scf\": True,\n",
    "        \"ele_T\": 500,\n",
    "        \"scf_options\":{\n",
    "            \"mode\": \"PDIIS\",\n",
    "            \"mixing_period\": 3,\n",
    "            \"step_size\": 0.05,\n",
    "            \"n_history\": 6,\n",
    "            \"abs_err\": 1e-6,\n",
    "            \"rel_err\": 1e-4,\n",
    "            \"max_iter\": 100\n",
    "        },\n",
    "        \"stru_options\":{\n",
    "            \"pbc\":[False, False, False],\n",
    "            \"device\":{\n",
    "                \"id\":\"0-160\",\n",
    "                \"sort\": True\n",
    "            },\n",
    "            \"lead_L\":{\n",
    "                \"id\":\"160-320\",\n",
    "                \"voltage\":0.0\n",
    "            },\n",
    "            \"lead_R\":{\n",
    "                \"id\":\"320-480\",\n",
    "                \"voltage\":0.0\n",
    "            },\n",
    "            \"d_trains\":\"z\"\n",
    "        },\n",
    "        \"poisson_options\": {\n",
    "            \"solver\": \"fmm\",\n",
    "            \"err\": 1e-5\n",
    "        },\n",
    "        \"sgf_solver\": \"Sancho-Rubio\",\n",
    "        \"espacing\": 0.1,\n",
    "        \"emin\": -3,\n",
    "        \"emax\": 3,\n",
    "        \"eta_lead\":1e-5,\n",
    "        \"eta_device\":0.0,\n",
    "        \"properties\":[\"DOS\", \"TC\", \"density\"]\n",
    "}"
   ]
  },
  {
   "cell_type": "code",
   "execution_count": 8,
   "metadata": {},
   "outputs": [
    {
     "name": "stdout",
     "output_type": "stream",
     "text": [
      "# initial rotate H or S func.\n"
     ]
    }
   ],
   "source": [
    "!export PYTHONUNBUFFERED=1\n",
    "crt = '/data/results-v1.0.0/C/nnsk/best_nnsk_c3.2w0.15.pth'\n",
    "\n",
    "nnskapi = NNSKHost(checkpoint=crt)\n",
    "nnskapi.register_plugin(InitSKModel())\n",
    "nnskapi.build()\n",
    "nnHrk = NN2HRK(apihost=nnskapi, mode='nnsk')\n",
    "\n",
    "atom = read(\"./C_frac.vasp\")\n",
    "\n",
    "run_opt={\"structure\":atom,\n",
    "        \"results_path\":\"./\"}\n",
    "\n",
    "\n",
    "negf = NEGF(apiHrk=nnHrk, run_opt=run_opt, jdata=jdata)"
   ]
  },
  {
   "cell_type": "code",
   "execution_count": 9,
   "metadata": {},
   "outputs": [
    {
     "data": {
      "text/plain": [
       "True"
      ]
     },
     "execution_count": 9,
     "metadata": {},
     "output_type": "execute_result"
    }
   ],
   "source": [
    "negf.compute_electrode_self_energy()"
   ]
  },
  {
   "cell_type": "code",
   "execution_count": 10,
   "metadata": {},
   "outputs": [
    {
     "data": {
      "text/plain": [
       "True"
      ]
     },
     "execution_count": 10,
     "metadata": {},
     "output_type": "execute_result"
    }
   ],
   "source": [
    "negf.compute_green_function()"
   ]
  },
  {
   "cell_type": "code",
   "execution_count": 11,
   "metadata": {},
   "outputs": [],
   "source": [
    "gtrains = [i[0] for i in negf.green]\n",
    "\n",
    "TT = []\n",
    "for i in range(60):\n",
    "    TT.append(negf.calTT(\n",
    "        seL=negf.SeE[\"lead_L\"][i],\n",
    "        seR=negf.SeE[\"lead_R\"][i],\n",
    "        gtrains=gtrains[i]\n",
    "    ).data)"
   ]
  },
  {
   "cell_type": "code",
   "execution_count": 12,
   "metadata": {},
   "outputs": [
    {
     "data": {
      "image/png": "[encoded data removed]",
      "text/plain": [
       "<Figure size 640x480 with 1 Axes>"
      ]
     },
     "metadata": {},
     "output_type": "display_data"
    }
   ],
   "source": [
    "plt.plot(TT)\n",
    "plt.show()"
   ]
  },
  {
   "cell_type": "code",
   "execution_count": null,
   "metadata": {},
   "outputs": [],
   "source": []
  }
 ],
 "metadata": {
  "kernelspec": {
   "display_name": "deeptb",
   "language": "python",
   "name": "python3"
  },
  "language_info": {
   "codemirror_mode": {
    "name": "ipython",
    "version": 3
   },
   "file_extension": ".py",
   "mimetype": "text/x-python",
   "name": "python",
   "nbconvert_exporter": "python",
   "pygments_lexer": "ipython3",
   "version": "3.8.13"
  },
  "orig_nbformat": 4
 },
 "nbformat": 4,
 "nbformat_minor": 2
}
